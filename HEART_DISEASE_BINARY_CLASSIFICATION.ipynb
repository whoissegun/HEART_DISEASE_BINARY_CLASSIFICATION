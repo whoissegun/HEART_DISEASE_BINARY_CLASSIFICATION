{
  "nbformat": 4,
  "nbformat_minor": 0,
  "metadata": {
    "colab": {
      "provenance": []
    },
    "kernelspec": {
      "name": "python3",
      "display_name": "Python 3"
    },
    "language_info": {
      "name": "python"
    }
  },
  "cells": [
    {
      "cell_type": "code",
      "execution_count": 341,
      "metadata": {
        "id": "zaUfU47zwORo"
      },
      "outputs": [],
      "source": [
        "import torch\n",
        "from torch import nn\n",
        "from sklearn.preprocessing import StandardScaler\n",
        "from sklearn.model_selection import train_test_split\n",
        "import pandas as pd"
      ]
    },
    {
      "cell_type": "code",
      "source": [
        "df = pd.read_csv('heart_cleveland_upload.csv')\n",
        "df = df.dropna() #removing any row that might have empty cells to avoid errors\n"
      ],
      "metadata": {
        "id": "hMZZx83Pw35W"
      },
      "execution_count": 342,
      "outputs": []
    },
    {
      "cell_type": "code",
      "source": [
        "X = df.drop(\"condition\",axis=1)\n",
        "y = df[\"condition\"]\n"
      ],
      "metadata": {
        "id": "CizdmAEdyFtT"
      },
      "execution_count": 343,
      "outputs": []
    },
    {
      "cell_type": "code",
      "source": [
        "X_train,X_test,y_train,y_test = train_test_split(X,y,test_size=0.33,random_state=42) #splitting the 67% of dataset for training and 33% for testing\n"
      ],
      "metadata": {
        "id": "zqYqR2mqybVu"
      },
      "execution_count": 344,
      "outputs": []
    },
    {
      "cell_type": "code",
      "source": [
        "scaler = StandardScaler()\n",
        "\n",
        "#normalizing the data\n",
        "\n",
        "X_train = scaler.fit_transform(X_train)\n",
        "X_test = scaler.transform(X_test)\n"
      ],
      "metadata": {
        "id": "xCnQ5pW0zBd2"
      },
      "execution_count": 345,
      "outputs": []
    },
    {
      "cell_type": "code",
      "source": [
        "class HeartDiseasePredictionModel(nn.Module):\n",
        "  def __init__(self):\n",
        "    super().__init__()\n",
        "    self.layer_1 = nn.Linear(in_features=13,out_features=26)\n",
        "    self.layer_2 = nn.Linear(in_features=26,out_features=20)\n",
        "    self.layer_3 = nn.Linear(in_features=20,out_features=1)\n",
        "    self.relu = nn.ReLU() #introducing relu because its a good activation function for mitigating vanishing gradients\n",
        "    self.sigmoid = nn.Sigmoid() #good final layer activation function for binary classification problems\n",
        "  \n",
        "  def forward(self,X):\n",
        "    X = self.layer_1(X)\n",
        "    X = self.relu(X)\n",
        "    X = self.layer_2(X)\n",
        "    X = self.relu(X)\n",
        "    X = self.layer_3(X)\n",
        "    #X = self.sigmoid(X)\n",
        "    return X.squeeze(dim=1)\n",
        "\n",
        "model = HeartDiseasePredictionModel()"
      ],
      "metadata": {
        "id": "_LMTL6vm0axF"
      },
      "execution_count": 346,
      "outputs": []
    },
    {
      "cell_type": "code",
      "source": [
        "#converting datasets to tensors\n",
        "\n",
        "X_train = torch.tensor(X_train,dtype=torch.float)\n",
        "X_test = torch.tensor(X_test,dtype=torch.float)\n",
        "y_train = torch.tensor(y_train.values,dtype=torch.float)\n",
        "y_test = torch.tensor(y_test.values,dtype=torch.float)"
      ],
      "metadata": {
        "id": "4v6bJq-O1smr"
      },
      "execution_count": 347,
      "outputs": []
    },
    {
      "cell_type": "code",
      "source": [
        "#picking our loss functions and optimizer\n",
        "\n",
        "loss_fn = nn.BCEWithLogitsLoss()\n",
        "optimizer = torch.optim.Adam(params=model.parameters(),lr=0.0001)"
      ],
      "metadata": {
        "id": "q1F0z15Cz4N2"
      },
      "execution_count": 348,
      "outputs": []
    },
    {
      "cell_type": "code",
      "source": [
        "def accuracy_fn(y_preds,y_test):\n",
        "  y_preds = torch.round(torch.sigmoid(y_preds))\n",
        "  correct = torch.eq(y_preds,y_test).sum().item()\n",
        "\n",
        "  acc  = (correct / len(y_test)) * 100\n",
        "  return f\"{round(acc,2)}%\""
      ],
      "metadata": {
        "id": "8KOVebce-8k5"
      },
      "execution_count": 349,
      "outputs": []
    },
    {
      "cell_type": "code",
      "source": [
        "import copy\n",
        "best_test_loss = float('inf')\n",
        "epochs_without_improvement = 0\n",
        "patience = 3\n",
        "best_model_weights = None\n",
        "\n",
        "epochs = 5000\n",
        "for epoch in range(epochs):\n",
        "  model.train()\n",
        "  y_preds = model(X_train)\n",
        "  loss = loss_fn(y_preds,y_train)\n",
        "  optimizer.zero_grad()\n",
        "  loss.backward()\n",
        "  optimizer.step()\n",
        "\n",
        "  if epoch % 200 == 0:\n",
        "    model.eval()\n",
        "    with torch.inference_mode():\n",
        "      test_preds = model(X_test)\n",
        "      test_loss = loss_fn(test_preds,y_test)\n",
        "\n",
        "      if test_loss <= best_test_loss:\n",
        "        best_test_loss = test_loss\n",
        "        epochs_without_improvement = 0\n",
        "        best_model_weights = copy.deepcopy(model.state_dict())\n",
        "        print(accuracy_fn(test_preds,y_test))\n",
        "      else:\n",
        "        epochs_without_improvement += 1\n",
        "      \n",
        "      if epochs_without_improvement >= patience:\n",
        "        break\n",
        "      \n",
        "      \n",
        "print(\"Best\", best_test_loss)\n",
        "model.load_state_dict(best_model_weights)"
      ],
      "metadata": {
        "colab": {
          "base_uri": "https://localhost:8080/"
        },
        "id": "CW1wu_Ky2Sl0",
        "outputId": "0fbd5f5f-5296-4f40-c98f-eec5fec384f2"
      },
      "execution_count": 350,
      "outputs": [
        {
          "output_type": "stream",
          "name": "stdout",
          "text": [
            "56.57%\n",
            "73.74%\n",
            "80.81%\n",
            "80.81%\n",
            "80.81%\n",
            "81.82%\n",
            "Best tensor(0.4205)\n"
          ]
        },
        {
          "output_type": "execute_result",
          "data": {
            "text/plain": [
              "<All keys matched successfully>"
            ]
          },
          "metadata": {},
          "execution_count": 350
        }
      ]
    },
    {
      "cell_type": "code",
      "source": [
        "torch.save(model.state_dict(),'HeartDiseasePredictionModel.pth')"
      ],
      "metadata": {
        "id": "7Y2nfTvmAMwG"
      },
      "execution_count": 351,
      "outputs": []
    }
  ]
}